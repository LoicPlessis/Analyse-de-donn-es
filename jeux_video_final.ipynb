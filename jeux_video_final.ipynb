{
 "cells": [
  {
   "cell_type": "markdown",
   "metadata": {},
   "source": [
    "## Importation des données"
   ]
  },
  {
   "cell_type": "code",
   "execution_count": 1,
   "metadata": {},
   "outputs": [
    {
     "name": "stdout",
     "output_type": "stream",
     "text": [
      "   Rank                      Name Platform    Year         Genre Publisher  \\\n",
      "0     1                Wii Sports      Wii  2006.0        Sports  Nintendo   \n",
      "1     2         Super Mario Bros.      NES  1985.0      Platform  Nintendo   \n",
      "2     3            Mario Kart Wii      Wii  2008.0        Racing  Nintendo   \n",
      "3     4         Wii Sports Resort      Wii  2009.0        Sports  Nintendo   \n",
      "4     5  Pokemon Red/Pokemon Blue       GB  1996.0  Role-Playing  Nintendo   \n",
      "\n",
      "   Global_Sales  \n",
      "0         82.74  \n",
      "1         40.24  \n",
      "2         35.82  \n",
      "3         33.00  \n",
      "4         31.37  \n"
     ]
    }
   ],
   "source": [
    "import pandas as pd\n",
    "import numpy as np\n",
    "import mysql.connector as mysqlpyth\n",
    "\n",
    "df = pd.read_csv('vgsales.csv')\n",
    "df=df.drop(['NA_Sales','EU_Sales','JP_Sales','Other_Sales'], axis=1)\n",
    "print(df.head(5))\n",
    "df.to_csv('ventes_jeux.csv')\n"
   ]
  },
  {
   "cell_type": "markdown",
   "metadata": {},
   "source": [
    "## Traitement des valeurs manquantes"
   ]
  },
  {
   "cell_type": "code",
   "execution_count": 2,
   "metadata": {},
   "outputs": [
    {
     "data": {
      "text/html": [
       "<div>\n",
       "<style scoped>\n",
       "    .dataframe tbody tr th:only-of-type {\n",
       "        vertical-align: middle;\n",
       "    }\n",
       "\n",
       "    .dataframe tbody tr th {\n",
       "        vertical-align: top;\n",
       "    }\n",
       "\n",
       "    .dataframe thead th {\n",
       "        text-align: right;\n",
       "    }\n",
       "</style>\n",
       "<table border=\"1\" class=\"dataframe\">\n",
       "  <thead>\n",
       "    <tr style=\"text-align: right;\">\n",
       "      <th></th>\n",
       "      <th>Rank</th>\n",
       "      <th>Name</th>\n",
       "      <th>Platform</th>\n",
       "      <th>Year</th>\n",
       "      <th>Genre</th>\n",
       "      <th>Publisher</th>\n",
       "      <th>Global_Sales</th>\n",
       "    </tr>\n",
       "  </thead>\n",
       "  <tbody>\n",
       "    <tr>\n",
       "      <th>0</th>\n",
       "      <td>1</td>\n",
       "      <td>Wii Sports</td>\n",
       "      <td>Wii</td>\n",
       "      <td>2006.0</td>\n",
       "      <td>Sports</td>\n",
       "      <td>Nintendo</td>\n",
       "      <td>82.74</td>\n",
       "    </tr>\n",
       "    <tr>\n",
       "      <th>1</th>\n",
       "      <td>2</td>\n",
       "      <td>Super Mario Bros.</td>\n",
       "      <td>NES</td>\n",
       "      <td>1985.0</td>\n",
       "      <td>Platform</td>\n",
       "      <td>Nintendo</td>\n",
       "      <td>40.24</td>\n",
       "    </tr>\n",
       "    <tr>\n",
       "      <th>2</th>\n",
       "      <td>3</td>\n",
       "      <td>Mario Kart Wii</td>\n",
       "      <td>Wii</td>\n",
       "      <td>2008.0</td>\n",
       "      <td>Racing</td>\n",
       "      <td>Nintendo</td>\n",
       "      <td>35.82</td>\n",
       "    </tr>\n",
       "    <tr>\n",
       "      <th>3</th>\n",
       "      <td>4</td>\n",
       "      <td>Wii Sports Resort</td>\n",
       "      <td>Wii</td>\n",
       "      <td>2009.0</td>\n",
       "      <td>Sports</td>\n",
       "      <td>Nintendo</td>\n",
       "      <td>33.00</td>\n",
       "    </tr>\n",
       "    <tr>\n",
       "      <th>4</th>\n",
       "      <td>5</td>\n",
       "      <td>Pokemon Red/Pokemon Blue</td>\n",
       "      <td>GB</td>\n",
       "      <td>1996.0</td>\n",
       "      <td>Role-Playing</td>\n",
       "      <td>Nintendo</td>\n",
       "      <td>31.37</td>\n",
       "    </tr>\n",
       "    <tr>\n",
       "      <th>...</th>\n",
       "      <td>...</td>\n",
       "      <td>...</td>\n",
       "      <td>...</td>\n",
       "      <td>...</td>\n",
       "      <td>...</td>\n",
       "      <td>...</td>\n",
       "      <td>...</td>\n",
       "    </tr>\n",
       "    <tr>\n",
       "      <th>16593</th>\n",
       "      <td>16596</td>\n",
       "      <td>Woody Woodpecker in Crazy Castle 5</td>\n",
       "      <td>GBA</td>\n",
       "      <td>2002.0</td>\n",
       "      <td>Platform</td>\n",
       "      <td>Kemco</td>\n",
       "      <td>0.01</td>\n",
       "    </tr>\n",
       "    <tr>\n",
       "      <th>16594</th>\n",
       "      <td>16597</td>\n",
       "      <td>Men in Black II: Alien Escape</td>\n",
       "      <td>GC</td>\n",
       "      <td>2003.0</td>\n",
       "      <td>Shooter</td>\n",
       "      <td>Infogrames</td>\n",
       "      <td>0.01</td>\n",
       "    </tr>\n",
       "    <tr>\n",
       "      <th>16595</th>\n",
       "      <td>16598</td>\n",
       "      <td>SCORE International Baja 1000: The Official Game</td>\n",
       "      <td>PS2</td>\n",
       "      <td>2008.0</td>\n",
       "      <td>Racing</td>\n",
       "      <td>Activision</td>\n",
       "      <td>0.01</td>\n",
       "    </tr>\n",
       "    <tr>\n",
       "      <th>16596</th>\n",
       "      <td>16599</td>\n",
       "      <td>Know How 2</td>\n",
       "      <td>DS</td>\n",
       "      <td>2010.0</td>\n",
       "      <td>Puzzle</td>\n",
       "      <td>7G//AMES</td>\n",
       "      <td>0.01</td>\n",
       "    </tr>\n",
       "    <tr>\n",
       "      <th>16597</th>\n",
       "      <td>16600</td>\n",
       "      <td>Spirits &amp; Spells</td>\n",
       "      <td>GBA</td>\n",
       "      <td>2003.0</td>\n",
       "      <td>Platform</td>\n",
       "      <td>Wanadoo</td>\n",
       "      <td>0.01</td>\n",
       "    </tr>\n",
       "  </tbody>\n",
       "</table>\n",
       "<p>16598 rows × 7 columns</p>\n",
       "</div>"
      ],
      "text/plain": [
       "        Rank                                              Name Platform  \\\n",
       "0          1                                        Wii Sports      Wii   \n",
       "1          2                                 Super Mario Bros.      NES   \n",
       "2          3                                    Mario Kart Wii      Wii   \n",
       "3          4                                 Wii Sports Resort      Wii   \n",
       "4          5                          Pokemon Red/Pokemon Blue       GB   \n",
       "...      ...                                               ...      ...   \n",
       "16593  16596                Woody Woodpecker in Crazy Castle 5      GBA   \n",
       "16594  16597                     Men in Black II: Alien Escape       GC   \n",
       "16595  16598  SCORE International Baja 1000: The Official Game      PS2   \n",
       "16596  16599                                        Know How 2       DS   \n",
       "16597  16600                                  Spirits & Spells      GBA   \n",
       "\n",
       "         Year         Genre   Publisher  Global_Sales  \n",
       "0      2006.0        Sports    Nintendo         82.74  \n",
       "1      1985.0      Platform    Nintendo         40.24  \n",
       "2      2008.0        Racing    Nintendo         35.82  \n",
       "3      2009.0        Sports    Nintendo         33.00  \n",
       "4      1996.0  Role-Playing    Nintendo         31.37  \n",
       "...       ...           ...         ...           ...  \n",
       "16593  2002.0      Platform       Kemco          0.01  \n",
       "16594  2003.0       Shooter  Infogrames          0.01  \n",
       "16595  2008.0        Racing  Activision          0.01  \n",
       "16596  2010.0        Puzzle    7G//AMES          0.01  \n",
       "16597  2003.0      Platform     Wanadoo          0.01  \n",
       "\n",
       "[16598 rows x 7 columns]"
      ]
     },
     "execution_count": 2,
     "metadata": {},
     "output_type": "execute_result"
    }
   ],
   "source": [
    "df.isnull().value_counts()\n",
    "df.fillna(df.mode)"
   ]
  },
  {
   "cell_type": "markdown",
   "metadata": {},
   "source": [
    "## Ecriture en base"
   ]
  },
  {
   "cell_type": "code",
   "execution_count": 3,
   "metadata": {},
   "outputs": [],
   "source": [
    "class Connexion :\n",
    "    \n",
    "    __USER = 'root'\n",
    "    __PWD = 'root'\n",
    "    __HOST = 'localhost'\n",
    "    __PORT = '8081'\n",
    "    __DB = 'jeuxvideo'\n",
    "    __cursor = None\n",
    "\n",
    "    @classmethod\n",
    "    def ouvrir_connexion(cls) :\n",
    "        if cls.__cursor == None :\n",
    "            cls.__bdd = mysqlpyth.connect(user = cls.__USER, password = cls.__PWD, host = cls.__HOST, port = cls.__PORT, database = cls.__DB, allow_local_infile = True)\n",
    "            cls.__cursor = cls.__bdd.cursor()\n",
    "    \n",
    "    @classmethod\n",
    "    def charger_bdd(cls):\n",
    "        query1 =  \"LOAD DATA LOCAL INFILE './Jeux.csv' INTO TABLE jeux FIELDS TERMINATED BY ',' ENCLOSED BY '\\\"' LINES TERMINATED BY '\\\\n' IGNORE 1 ROWS;\"\n",
    "        query2 = \"LOAD DATA LOCAL INFILE './Genre.csv' INTO TABLE genre FIELDS TERMINATED BY ',' ENCLOSED BY '\\\"' LINES TERMINATED BY '\\\\n' IGNORE 1 ROWS;\"\n",
    "        query3 =\"LOAD DATA LOCAL INFILE './Editeur.csv' INTO TABLE editeur FIELDS TERMINATED BY ',' ENCLOSED BY '\\\"' LINES TERMINATED BY '\\\\n' IGNORE 1 ROWS;\"\n",
    "        query4 = \"LOAD DATA LOCAL INFILE 'Console.csv' INTO TABLE console FIELDS TERMINATED BY ',' ENCLOSED BY '\\\"' LINES TERMINATED BY '\\\\n' IGNORE 1 ROWS;\"\n",
    "        cls.__cursor.execute(query1)\n",
    "        cls.__cursor.execute(query2)\n",
    "        cls.__cursor.execute(query3)\n",
    "        cls.__cursor.execute(query4)\n",
    "        cls.__bdd.commit()\n",
    "        \n",
    "    @classmethod\n",
    "    def fermer_connexion(cls):\n",
    "        cls.__cursor.close()\n",
    "        cls.__bdd.close()\n",
    "        cls.__cursor = None\n",
    "\n"
   ]
  },
  {
   "cell_type": "code",
   "execution_count": 4,
   "metadata": {},
   "outputs": [],
   "source": [
    "tab_1=df[['Name','Year','Global_Sales']]\n",
    "df_publish=df['Publisher'].unique()\n",
    "df_publish=pd.DataFrame(df_publish)\n",
    "tab_2=df_publish\n",
    "df_plat=df['Platform'].unique()\n",
    "df_plat=pd.DataFrame(df_plat)\n",
    "tab_3=df_plat\n",
    "df_genre=df['Genre'].unique()\n",
    "df_genre=pd.DataFrame(df_genre)\n",
    "tab_4=df_genre\n",
    "\n",
    "tab_1.index += 1\n",
    "tab_2.index += 1\n",
    "tab_3.index += 1\n",
    "tab_4.index += 1\n",
    "\n",
    "tab_1.to_csv('Jeux.csv')\n",
    "tab_2.to_csv('Editeur.csv')\n",
    "tab_3.to_csv('Console.csv')\n",
    "tab_4.to_csv('Genre.csv')\n",
    "\n",
    "Connexion.ouvrir_connexion()\n",
    "Connexion.charger_bdd()\n",
    "Connexion.fermer_connexion()\n"
   ]
  },
  {
   "cell_type": "markdown",
   "metadata": {},
   "source": [
    "## Analyse statistique"
   ]
  },
  {
   "cell_type": "code",
   "execution_count": 5,
   "metadata": {},
   "outputs": [
    {
     "name": "stdout",
     "output_type": "stream",
     "text": [
      "<class 'pandas.core.frame.DataFrame'>\n",
      "RangeIndex: 16598 entries, 0 to 16597\n",
      "Data columns (total 7 columns):\n",
      " #   Column        Non-Null Count  Dtype  \n",
      "---  ------        --------------  -----  \n",
      " 0   Rank          16598 non-null  int64  \n",
      " 1   Name          16598 non-null  object \n",
      " 2   Platform      16598 non-null  object \n",
      " 3   Year          16327 non-null  float64\n",
      " 4   Genre         16598 non-null  object \n",
      " 5   Publisher     16540 non-null  object \n",
      " 6   Global_Sales  16598 non-null  float64\n",
      "dtypes: float64(2), int64(1), object(4)\n",
      "memory usage: 907.8+ KB\n"
     ]
    }
   ],
   "source": [
    "import seaborn as sns\n",
    "df.info()"
   ]
  },
  {
   "cell_type": "code",
   "execution_count": 6,
   "metadata": {},
   "outputs": [
    {
     "name": "stdout",
     "output_type": "stream",
     "text": [
      "                       Name Platform         Genre Publisher\n",
      "0                Wii Sports      Wii        Sports  Nintendo\n",
      "1         Super Mario Bros.      NES      Platform  Nintendo\n",
      "2            Mario Kart Wii      Wii        Racing  Nintendo\n",
      "3         Wii Sports Resort      Wii        Sports  Nintendo\n",
      "4  Pokemon Red/Pokemon Blue       GB  Role-Playing  Nintendo\n",
      "                                                   Name Platform     Genre  \\\n",
      "16593                Woody Woodpecker in Crazy Castle 5      GBA  Platform   \n",
      "16594                     Men in Black II: Alien Escape       GC   Shooter   \n",
      "16595  SCORE International Baja 1000: The Official Game      PS2    Racing   \n",
      "16596                                        Know How 2       DS    Puzzle   \n",
      "16597                                  Spirits & Spells      GBA  Platform   \n",
      "\n",
      "        Publisher  \n",
      "16593       Kemco  \n",
      "16594  Infogrames  \n",
      "16595  Activision  \n",
      "16596    7G//AMES  \n",
      "16597     Wanadoo  \n"
     ]
    }
   ],
   "source": [
    "obj_df = df.select_dtypes(include=['object']).copy()\n",
    "print(obj_df.head())\n",
    "print(obj_df.tail())"
   ]
  },
  {
   "cell_type": "code",
   "execution_count": 7,
   "metadata": {
    "scrolled": true
   },
   "outputs": [
    {
     "name": "stdout",
     "output_type": "stream",
     "text": [
      "##############################\n",
      " Classement du nombre de plateforme par jeu : \n",
      " Publisher                   \n",
      "Electronic Arts                 1351\n",
      "Activision                       975\n",
      "Namco Bandai Games               932\n",
      "Ubisoft                          921\n",
      "Konami Digital Entertainment     832\n",
      "                                ... \n",
      "Playmates                          1\n",
      "Playmore                           1\n",
      "Plenty                             1\n",
      "Pony Canyon                        1\n",
      "SCS Software                       1\n",
      "Length: 578, dtype: int64\n",
      "##############################\n",
      " Classement du nombre de jeux par plateforme : \n",
      " Platform\n",
      "DS          2163\n",
      "PS2         2161\n",
      "PS3         1329\n",
      "Wii         1325\n",
      "X360        1265\n",
      "PSP         1213\n",
      "PS          1196\n",
      "PC           960\n",
      "XB           824\n",
      "GBA          822\n",
      "GC           556\n",
      "3DS          509\n",
      "PSV          413\n",
      "PS4          336\n",
      "N64          319\n",
      "SNES         239\n",
      "XOne         213\n",
      "SAT          173\n",
      "WiiU         143\n",
      "2600         133\n",
      "NES           98\n",
      "GB            98\n",
      "DC            52\n",
      "GEN           27\n",
      "NG            12\n",
      "SCD            6\n",
      "WS             6\n",
      "3DO            3\n",
      "TG16           2\n",
      "PCFX           1\n",
      "GG             1\n",
      "dtype: int64\n",
      "##############################\n",
      " Classement des genres : \n",
      " Genre       \n",
      "Action          3316\n",
      "Sports          2346\n",
      "Misc            1739\n",
      "Role-Playing    1488\n",
      "Shooter         1310\n",
      "Adventure       1286\n",
      "Racing          1249\n",
      "Platform         886\n",
      "Simulation       867\n",
      "Fighting         848\n",
      "Strategy         681\n",
      "Puzzle           582\n",
      "dtype: int64\n",
      "##############################\n",
      " Classement des éditeurs : \n",
      " Publisher                   \n",
      "Electronic Arts                 1351\n",
      "Activision                       975\n",
      "Namco Bandai Games               932\n",
      "Ubisoft                          921\n",
      "Konami Digital Entertainment     832\n",
      "                                ... \n",
      "Playmates                          1\n",
      "Playmore                           1\n",
      "Plenty                             1\n",
      "Pony Canyon                        1\n",
      "SCS Software                       1\n",
      "Length: 578, dtype: int64\n"
     ]
    }
   ],
   "source": [
    "print('##############################')\n",
    "print(' Classement du nombre de plateforme par jeu :',\"\\n\",df[['Publisher']].value_counts())\n",
    "print('##############################')\n",
    "print(' Classement du nombre de jeux par plateforme :',\"\\n\",df[['Platform']].value_counts())\n",
    "print('##############################')\n",
    "print(' Classement des genres :',\"\\n\",df[['Genre']].value_counts())\n",
    "print('##############################')\n",
    "print(' Classement des éditeurs :',\"\\n\",df[['Publisher']].value_counts())"
   ]
  },
  {
   "cell_type": "markdown",
   "metadata": {},
   "source": [
    "Les données précédentes montrent :\n",
    "- le nombre de plateforme par jeux (Need for Speed : Most Wanted est sorti sur un maximum de plateforme)\n",
    "- le nombre de jeux par plateforme (la Nintendo DS est en tête)\n",
    "- le nombre de jeux par catégorie (les jeux d'action sont les plus nombreux\n",
    "- le nombre de jeux par éditeur (EA est en tête, Ubisoft est bien situé en 4ème position)"
   ]
  },
  {
   "cell_type": "markdown",
   "metadata": {},
   "source": [
    "Nous allons visualiser sur des diagrammes circulaires les grandes tendances énoncés précédemment."
   ]
  },
  {
   "cell_type": "code",
   "execution_count": 8,
   "metadata": {},
   "outputs": [
    {
     "data": {
      "text/plain": [
       "([<matplotlib.patches.Wedge at 0x27c1682daf0>,\n",
       "  <matplotlib.patches.Wedge at 0x27c1682dfa0>,\n",
       "  <matplotlib.patches.Wedge at 0x27c16840460>,\n",
       "  <matplotlib.patches.Wedge at 0x27c168408e0>,\n",
       "  <matplotlib.patches.Wedge at 0x27c16840d60>],\n",
       " [Text(0.7284615972984712, 0.8242230894978375, 'Electronic Arts'),\n",
       "  Text(-0.7372045521181685, 0.8164125478802068, 'Activision'),\n",
       "  Text(-1.0297821885660117, -0.38671519767419993, 'Namco Bandai Games'),\n",
       "  Text(-0.05480316124034704, -1.0986339761349386, 'Ubisoft'),\n",
       "  Text(0.953717977239218, -0.5481076718043039, 'Konami Digital Entertainment')])"
      ]
     },
     "execution_count": 8,
     "metadata": {},
     "output_type": "execute_result"
    },
    {
     "data": {
      "image/png": "[encoded data removed]",
      "text/plain": [
       "<Figure size 432x288 with 1 Axes>"
      ]
     },
     "metadata": {},
     "output_type": "display_data"
    }
   ],
   "source": [
    "from matplotlib.pyplot import pie\n",
    "pie(df[['Publisher']].value_counts().head(5), labels=['Electronic Arts', 'Activision','Namco Bandai Games','Ubisoft','Konami Digital Entertainment'])"
   ]
  },
  {
   "cell_type": "markdown",
   "metadata": {},
   "source": [
    "Ci-dessous la répartition des jeux par genre. Une forte tendence action est montrée."
   ]
  },
  {
   "cell_type": "code",
   "execution_count": 9,
   "metadata": {},
   "outputs": [
    {
     "data": {
      "text/plain": [
       "([<matplotlib.patches.Wedge at 0x27c168b58e0>,\n",
       "  <matplotlib.patches.Wedge at 0x27c168b5d90>,\n",
       "  <matplotlib.patches.Wedge at 0x27c168c3250>,\n",
       "  <matplotlib.patches.Wedge at 0x27c168c36d0>,\n",
       "  <matplotlib.patches.Wedge at 0x27c168c3b50>],\n",
       " [Text(0.574365544083538, 0.9381387007098798, 'Action'),\n",
       "  Text(-1.0231129888626935, 0.4040294692475367, 'Sport'),\n",
       "  Text(-0.6990023656122846, -0.8493501591619502, 'Misc'),\n",
       "  Text(0.3307539900451367, -1.0490957049141045, 'Role Playing'),\n",
       "  Text(1.0116536212702796, -0.4319223895223885, 'Shooter')])"
      ]
     },
     "execution_count": 9,
     "metadata": {},
     "output_type": "execute_result"
    },
    {
     "data": {
      "image/png": "[encoded data removed]",
      "text/plain": [
       "<Figure size 432x288 with 1 Axes>"
      ]
     },
     "metadata": {},
     "output_type": "display_data"
    }
   ],
   "source": [
    "pie(df[['Genre']].value_counts().head(5), labels=['Action', 'Sport','Misc','Role Playing','Shooter'])"
   ]
  },
  {
   "cell_type": "code",
   "execution_count": 10,
   "metadata": {},
   "outputs": [
    {
     "data": {
      "text/plain": [
       "([<matplotlib.patches.Wedge at 0x27c169039a0>,\n",
       "  <matplotlib.patches.Wedge at 0x27c16903e80>,\n",
       "  <matplotlib.patches.Wedge at 0x27c16911340>,\n",
       "  <matplotlib.patches.Wedge at 0x27c169117c0>,\n",
       "  <matplotlib.patches.Wedge at 0x27c16911c40>],\n",
       " [Text(0.7469232027132411, 0.8075306367244495, 'Nintendo DS'),\n",
       "  Text(-0.8627151652639182, 0.6824386738921311, 'PS2'),\n",
       "  Text(-0.8684068459916735, -0.6751811237251779, 'PS3'),\n",
       "  Text(0.11153397460710211, -1.094330924587413, 'Wii'),\n",
       "  Text(0.974615338325221, -0.5100244526502777, 'Xbox 360')])"
      ]
     },
     "execution_count": 10,
     "metadata": {},
     "output_type": "execute_result"
    },
    {
     "data": {
      "image/png": "[encoded data removed]",
      "text/plain": [
       "<Figure size 432x288 with 1 Axes>"
      ]
     },
     "metadata": {},
     "output_type": "display_data"
    }
   ],
   "source": [
    "from matplotlib.pyplot import pie\n",
    "pie(df[['Platform']].value_counts().head(5), labels=['Nintendo DS', 'PS2','PS3','Wii','Xbox 360'])"
   ]
  },
  {
   "cell_type": "code",
   "execution_count": 11,
   "metadata": {},
   "outputs": [
    {
     "data": {
      "text/html": [
       "<div>\n",
       "<style scoped>\n",
       "    .dataframe tbody tr th:only-of-type {\n",
       "        vertical-align: middle;\n",
       "    }\n",
       "\n",
       "    .dataframe tbody tr th {\n",
       "        vertical-align: top;\n",
       "    }\n",
       "\n",
       "    .dataframe thead th {\n",
       "        text-align: right;\n",
       "    }\n",
       "</style>\n",
       "<table border=\"1\" class=\"dataframe\">\n",
       "  <thead>\n",
       "    <tr style=\"text-align: right;\">\n",
       "      <th></th>\n",
       "      <th>Global_Sales</th>\n",
       "      <th>Publisher</th>\n",
       "      <th>Name</th>\n",
       "      <th>Platform</th>\n",
       "    </tr>\n",
       "  </thead>\n",
       "  <tbody>\n",
       "    <tr>\n",
       "      <th>0</th>\n",
       "      <td>82.74</td>\n",
       "      <td>Nintendo</td>\n",
       "      <td>Wii Sports</td>\n",
       "      <td>Wii</td>\n",
       "    </tr>\n",
       "    <tr>\n",
       "      <th>1</th>\n",
       "      <td>40.24</td>\n",
       "      <td>Nintendo</td>\n",
       "      <td>Super Mario Bros.</td>\n",
       "      <td>NES</td>\n",
       "    </tr>\n",
       "    <tr>\n",
       "      <th>2</th>\n",
       "      <td>35.82</td>\n",
       "      <td>Nintendo</td>\n",
       "      <td>Mario Kart Wii</td>\n",
       "      <td>Wii</td>\n",
       "    </tr>\n",
       "    <tr>\n",
       "      <th>3</th>\n",
       "      <td>33.00</td>\n",
       "      <td>Nintendo</td>\n",
       "      <td>Wii Sports Resort</td>\n",
       "      <td>Wii</td>\n",
       "    </tr>\n",
       "    <tr>\n",
       "      <th>4</th>\n",
       "      <td>31.37</td>\n",
       "      <td>Nintendo</td>\n",
       "      <td>Pokemon Red/Pokemon Blue</td>\n",
       "      <td>GB</td>\n",
       "    </tr>\n",
       "    <tr>\n",
       "      <th>5</th>\n",
       "      <td>30.26</td>\n",
       "      <td>Nintendo</td>\n",
       "      <td>Tetris</td>\n",
       "      <td>GB</td>\n",
       "    </tr>\n",
       "    <tr>\n",
       "      <th>6</th>\n",
       "      <td>30.01</td>\n",
       "      <td>Nintendo</td>\n",
       "      <td>New Super Mario Bros.</td>\n",
       "      <td>DS</td>\n",
       "    </tr>\n",
       "    <tr>\n",
       "      <th>7</th>\n",
       "      <td>29.02</td>\n",
       "      <td>Nintendo</td>\n",
       "      <td>Wii Play</td>\n",
       "      <td>Wii</td>\n",
       "    </tr>\n",
       "    <tr>\n",
       "      <th>8</th>\n",
       "      <td>28.62</td>\n",
       "      <td>Nintendo</td>\n",
       "      <td>New Super Mario Bros. Wii</td>\n",
       "      <td>Wii</td>\n",
       "    </tr>\n",
       "    <tr>\n",
       "      <th>9</th>\n",
       "      <td>28.31</td>\n",
       "      <td>Nintendo</td>\n",
       "      <td>Duck Hunt</td>\n",
       "      <td>NES</td>\n",
       "    </tr>\n",
       "    <tr>\n",
       "      <th>10</th>\n",
       "      <td>24.76</td>\n",
       "      <td>Nintendo</td>\n",
       "      <td>Nintendogs</td>\n",
       "      <td>DS</td>\n",
       "    </tr>\n",
       "    <tr>\n",
       "      <th>11</th>\n",
       "      <td>23.42</td>\n",
       "      <td>Nintendo</td>\n",
       "      <td>Mario Kart DS</td>\n",
       "      <td>DS</td>\n",
       "    </tr>\n",
       "    <tr>\n",
       "      <th>12</th>\n",
       "      <td>23.10</td>\n",
       "      <td>Nintendo</td>\n",
       "      <td>Pokemon Gold/Pokemon Silver</td>\n",
       "      <td>GB</td>\n",
       "    </tr>\n",
       "    <tr>\n",
       "      <th>13</th>\n",
       "      <td>22.72</td>\n",
       "      <td>Nintendo</td>\n",
       "      <td>Wii Fit</td>\n",
       "      <td>Wii</td>\n",
       "    </tr>\n",
       "    <tr>\n",
       "      <th>14</th>\n",
       "      <td>22.00</td>\n",
       "      <td>Nintendo</td>\n",
       "      <td>Wii Fit Plus</td>\n",
       "      <td>Wii</td>\n",
       "    </tr>\n",
       "  </tbody>\n",
       "</table>\n",
       "</div>"
      ],
      "text/plain": [
       "    Global_Sales Publisher                         Name Platform\n",
       "0          82.74  Nintendo                   Wii Sports      Wii\n",
       "1          40.24  Nintendo            Super Mario Bros.      NES\n",
       "2          35.82  Nintendo               Mario Kart Wii      Wii\n",
       "3          33.00  Nintendo            Wii Sports Resort      Wii\n",
       "4          31.37  Nintendo     Pokemon Red/Pokemon Blue       GB\n",
       "5          30.26  Nintendo                       Tetris       GB\n",
       "6          30.01  Nintendo        New Super Mario Bros.       DS\n",
       "7          29.02  Nintendo                     Wii Play      Wii\n",
       "8          28.62  Nintendo    New Super Mario Bros. Wii      Wii\n",
       "9          28.31  Nintendo                    Duck Hunt      NES\n",
       "10         24.76  Nintendo                   Nintendogs       DS\n",
       "11         23.42  Nintendo                Mario Kart DS       DS\n",
       "12         23.10  Nintendo  Pokemon Gold/Pokemon Silver       GB\n",
       "13         22.72  Nintendo                      Wii Fit      Wii\n",
       "14         22.00  Nintendo                 Wii Fit Plus      Wii"
      ]
     },
     "execution_count": 11,
     "metadata": {},
     "output_type": "execute_result"
    }
   ],
   "source": [
    "vente_max =df [['Global_Sales','Publisher','Name','Platform']].sort_values(ascending=False, by='Global_Sales')\n",
    "pd.DataFrame(vente_max).head(15)"
   ]
  },
  {
   "cell_type": "markdown",
   "metadata": {},
   "source": [
    "Nous allons analyser plus en détails la société Ubisoft."
   ]
  },
  {
   "cell_type": "code",
   "execution_count": 12,
   "metadata": {},
   "outputs": [
    {
     "name": "stdout",
     "output_type": "stream",
     "text": [
      "     Rank                             Name Platform    Year      Genre  \\\n",
      "60     61                     Just Dance 3      Wii  2011.0       Misc   \n",
      "68     69                     Just Dance 2      Wii  2010.0       Misc   \n",
      "102   103                       Just Dance      Wii  2009.0       Misc   \n",
      "111   112                     Just Dance 4      Wii  2012.0       Misc   \n",
      "128   129             Assassin's Creed III      PS3  2012.0     Action   \n",
      "156   157              Assassin's Creed II      PS3  2009.0     Action   \n",
      "158   159                 Assassin's Creed     X360  2007.0  Adventure   \n",
      "172   173             Assassin's Creed III     X360  2012.0     Action   \n",
      "176   177              Assassin's Creed II     X360  2009.0     Action   \n",
      "218   219                 Assassin's Creed      PS3  2007.0  Adventure   \n",
      "247   248  Michael Jackson: The Experience      Wii  2010.0       Misc   \n",
      "263   264    Assassin's Creed: Revelations      PS3  2011.0     Action   \n",
      "273   274    Assassin's Creed: Revelations     X360  2011.0     Action   \n",
      "280   281                       Watch Dogs      PS4  2014.0     Action   \n",
      "295   296                        Far Cry 4      PS4  2014.0    Shooter   \n",
      "\n",
      "    Publisher  Global_Sales  \n",
      "60    Ubisoft         10.26  \n",
      "68    Ubisoft          9.52  \n",
      "102   Ubisoft          7.27  \n",
      "111   Ubisoft          6.91  \n",
      "128   Ubisoft          6.50  \n",
      "156   Ubisoft          5.57  \n",
      "158   Ubisoft          5.55  \n",
      "172   Ubisoft          5.30  \n",
      "176   Ubisoft          5.27  \n",
      "218   Ubisoft          4.83  \n",
      "247   Ubisoft          4.42  \n",
      "263   Ubisoft          4.24  \n",
      "273   Ubisoft          4.19  \n",
      "280   Ubisoft          4.14  \n",
      "295   Ubisoft          4.03  \n"
     ]
    }
   ],
   "source": [
    "df_ubisoft = df.loc[df['Publisher'] == 'Ubisoft']\n",
    "print(df_ubisoft.sort_values(ascending=False, by='Global_Sales').head(15))"
   ]
  },
  {
   "cell_type": "markdown",
   "metadata": {},
   "source": [
    "On peut voir que Just Dance et Assasin's Creed sont les deux licences les plus vendues d'Ubisoft."
   ]
  },
  {
   "cell_type": "code",
   "execution_count": 13,
   "metadata": {},
   "outputs": [],
   "source": [
    "c=df_ubisoft.sort_values(ascending=False, by='Global_Sales').head(10)\n",
    "x=c.Name\n",
    "y=c.Global_Sales"
   ]
  },
  {
   "cell_type": "code",
   "execution_count": 14,
   "metadata": {},
   "outputs": [
    {
     "data": {
      "image/png": "[encoded data removed]",
      "text/plain": [
       "<Figure size 1080x720 with 1 Axes>"
      ]
     },
     "metadata": {
      "needs_background": "light"
     },
     "output_type": "display_data"
    }
   ],
   "source": [
    "import matplotlib.pyplot as plt\n",
    "plt.figure(figsize=(15, 10))\n",
    "plt.bar(x, y)\n",
    "plt.ylabel = 'Ventes'\n",
    "plt.xlabel = x"
   ]
  },
  {
   "cell_type": "code",
   "execution_count": 21,
   "metadata": {},
   "outputs": [
    {
     "data": {
      "text/html": [
       "<div>\n",
       "<style scoped>\n",
       "    .dataframe tbody tr th:only-of-type {\n",
       "        vertical-align: middle;\n",
       "    }\n",
       "\n",
       "    .dataframe tbody tr th {\n",
       "        vertical-align: top;\n",
       "    }\n",
       "\n",
       "    .dataframe thead th {\n",
       "        text-align: right;\n",
       "    }\n",
       "</style>\n",
       "<table border=\"1\" class=\"dataframe\">\n",
       "  <thead>\n",
       "    <tr style=\"text-align: right;\">\n",
       "      <th></th>\n",
       "      <th>Global_Sales</th>\n",
       "      <th>Publisher</th>\n",
       "    </tr>\n",
       "  </thead>\n",
       "  <tbody>\n",
       "    <tr>\n",
       "      <th>0</th>\n",
       "      <td>82.74</td>\n",
       "      <td>Nintendo</td>\n",
       "    </tr>\n",
       "    <tr>\n",
       "      <th>1</th>\n",
       "      <td>40.24</td>\n",
       "      <td>Nintendo</td>\n",
       "    </tr>\n",
       "    <tr>\n",
       "      <th>2</th>\n",
       "      <td>35.82</td>\n",
       "      <td>Nintendo</td>\n",
       "    </tr>\n",
       "    <tr>\n",
       "      <th>3</th>\n",
       "      <td>33.00</td>\n",
       "      <td>Nintendo</td>\n",
       "    </tr>\n",
       "    <tr>\n",
       "      <th>4</th>\n",
       "      <td>31.37</td>\n",
       "      <td>Nintendo</td>\n",
       "    </tr>\n",
       "    <tr>\n",
       "      <th>...</th>\n",
       "      <td>...</td>\n",
       "      <td>...</td>\n",
       "    </tr>\n",
       "    <tr>\n",
       "      <th>16593</th>\n",
       "      <td>0.01</td>\n",
       "      <td>Kemco</td>\n",
       "    </tr>\n",
       "    <tr>\n",
       "      <th>16594</th>\n",
       "      <td>0.01</td>\n",
       "      <td>Infogrames</td>\n",
       "    </tr>\n",
       "    <tr>\n",
       "      <th>16595</th>\n",
       "      <td>0.01</td>\n",
       "      <td>Activision</td>\n",
       "    </tr>\n",
       "    <tr>\n",
       "      <th>16596</th>\n",
       "      <td>0.01</td>\n",
       "      <td>7G//AMES</td>\n",
       "    </tr>\n",
       "    <tr>\n",
       "      <th>16597</th>\n",
       "      <td>0.01</td>\n",
       "      <td>Wanadoo</td>\n",
       "    </tr>\n",
       "  </tbody>\n",
       "</table>\n",
       "<p>16598 rows × 2 columns</p>\n",
       "</div>"
      ],
      "text/plain": [
       "       Global_Sales   Publisher\n",
       "0             82.74    Nintendo\n",
       "1             40.24    Nintendo\n",
       "2             35.82    Nintendo\n",
       "3             33.00    Nintendo\n",
       "4             31.37    Nintendo\n",
       "...             ...         ...\n",
       "16593          0.01       Kemco\n",
       "16594          0.01  Infogrames\n",
       "16595          0.01  Activision\n",
       "16596          0.01    7G//AMES\n",
       "16597          0.01     Wanadoo\n",
       "\n",
       "[16598 rows x 2 columns]"
      ]
     },
     "execution_count": 21,
     "metadata": {},
     "output_type": "execute_result"
    }
   ],
   "source": [
    "df[['Publisher']].value_counts()\n",
    "df[['Global_Sales','Publisher']]"
   ]
  },
  {
   "cell_type": "code",
   "execution_count": null,
   "metadata": {},
   "outputs": [],
   "source": []
  }
 ],
 "metadata": {
  "interpreter": {
   "hash": "c0b11bef86a9cd29b6e66e1c6983d1666b3e229837b5ab5090f195a95cb93d2a"
  },
  "kernelspec": {
   "display_name": "Python 3",
   "language": "python",
   "name": "python3"
  },
  "language_info": {
   "codemirror_mode": {
    "name": "ipython",
    "version": 3
   },
   "file_extension": ".py",
   "mimetype": "text/x-python",
   "name": "python",
   "nbconvert_exporter": "python",
   "pygments_lexer": "ipython3",
   "version": "3.8.3"
  }
 },
 "nbformat": 4,
 "nbformat_minor": 2
}
